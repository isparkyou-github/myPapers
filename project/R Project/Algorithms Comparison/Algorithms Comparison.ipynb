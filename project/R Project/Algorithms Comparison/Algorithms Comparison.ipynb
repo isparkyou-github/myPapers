{
  "nbformat": 4,
  "nbformat_minor": 0,
  "metadata": {
    "colab": {
      "provenance": []
    },
    "kernelspec": {
      "name": "ir",
      "display_name": "R"
    },
    "language_info": {
      "name": "R"
    }
  },
  "cells": [
    {
      "cell_type": "code",
      "execution_count": 1,
      "metadata": {
        "colab": {
          "base_uri": "https://localhost:8080/"
        },
        "id": "hVErBmaCm7_g",
        "outputId": "19cce7ea-4b5e-43ec-ae81-cc9b06ef3051"
      },
      "outputs": [
        {
          "output_type": "stream",
          "name": "stderr",
          "text": [
            "Installing package into ‘/usr/local/lib/R/site-library’\n",
            "(as ‘lib’ is unspecified)\n",
            "\n",
            "Installing package into ‘/usr/local/lib/R/site-library’\n",
            "(as ‘lib’ is unspecified)\n",
            "\n",
            "also installing the dependencies ‘RcppTOML’, ‘here’, ‘png’, ‘config’, ‘tfautograph’, ‘reticulate’, ‘tensorflow’, ‘tfruns’, ‘zeallot’\n",
            "\n",
            "\n",
            "Installing package into ‘/usr/local/lib/R/site-library’\n",
            "(as ‘lib’ is unspecified)\n",
            "\n",
            "Installing package into ‘/usr/local/lib/R/site-library’\n",
            "(as ‘lib’ is unspecified)\n",
            "\n",
            "Installing package into ‘/usr/local/lib/R/site-library’\n",
            "(as ‘lib’ is unspecified)\n",
            "\n",
            "Installing package into ‘/usr/local/lib/R/site-library’\n",
            "(as ‘lib’ is unspecified)\n",
            "\n",
            "also installing the dependency ‘proxy’\n",
            "\n",
            "\n",
            "Installing package into ‘/usr/local/lib/R/site-library’\n",
            "(as ‘lib’ is unspecified)\n",
            "\n",
            "randomForest 4.7-1.2\n",
            "\n",
            "Type rfNews() to see new features/changes/bug fixes.\n",
            "\n",
            "\n",
            "Attaching package: ‘ggplot2’\n",
            "\n",
            "\n",
            "The following object is masked from ‘package:randomForest’:\n",
            "\n",
            "    margin\n",
            "\n",
            "\n",
            "corrplot 0.95 loaded\n",
            "\n"
          ]
        }
      ],
      "source": [
        "# Load required libraries\n",
        "install.packages(\"randomForest\")\n",
        "install.packages(\"keras3\")\n",
        "install.packages(\"xgboost\")\n",
        "install.packages(\"ggplot2\")\n",
        "install.packages(\"corrplot\")\n",
        "install.packages(\"e1071\")  # For SVM\n",
        "install.packages(\"rpart\")  # For Decision Tree\n",
        "\n",
        "library(keras3)\n",
        "library(xgboost)\n",
        "library(randomForest)\n",
        "library(ggplot2)\n",
        "library(corrplot)\n",
        "library(e1071)\n",
        "library(rpart)"
      ]
    },
    {
      "cell_type": "code",
      "source": [
        "# Load and summarize the dataset\n",
        "dataset <- read.csv(\"/content/station00.csv\")"
      ],
      "metadata": {
        "id": "xxCwgz_5m-yX"
      },
      "execution_count": 2,
      "outputs": []
    },
    {
      "cell_type": "code",
      "source": [
        "# Display column names and the first five rows of the dataset\n",
        "cat(\"Column names of the dataset:\\n\")\n",
        "print(names(dataset))\n",
        "\n",
        "cat(\"First five rows of the dataset:\\n\")\n",
        "print(head(dataset, 5))"
      ],
      "metadata": {
        "colab": {
          "base_uri": "https://localhost:8080/"
        },
        "id": "s_k8XqUIsdJr",
        "outputId": "d40003fa-6424-4396-ce53-23d2a2836c1d"
      },
      "execution_count": 8,
      "outputs": [
        {
          "output_type": "stream",
          "name": "stdout",
          "text": [
            "Column names of the dataset:\n",
            " [1] \"date_time\"         \"nwp_globalirrad\"   \"nwp_directirrad\"  \n",
            " [4] \"nwp_temperature\"   \"nwp_humidity\"      \"nwp_windspeed\"    \n",
            " [7] \"nwp_winddirection\" \"nwp_pressure\"      \"lmd_totalirrad\"   \n",
            "[10] \"lmd_diffuseirrad\"  \"lmd_temperature\"   \"lmd_pressure\"     \n",
            "[13] \"lmd_winddirection\" \"lmd_windspeed\"     \"power\"            \n",
            "First five rows of the dataset:\n",
            "            date_time nwp_globalirrad nwp_directirrad nwp_temperature\n",
            "1 2018-08-15 16:00:00               0               0           22.78\n",
            "2 2018-08-15 16:15:00               0               0           22.75\n",
            "3 2018-08-15 16:30:00               0               0           22.71\n",
            "4 2018-08-15 16:45:00               0               0           22.64\n",
            "5 2018-08-15 17:00:00               0               0           22.57\n",
            "  nwp_humidity nwp_windspeed nwp_winddirection nwp_pressure lmd_totalirrad\n",
            "1        96.85          4.28            339.41      1007.27              0\n",
            "2        96.91          4.30            337.27      1007.27              0\n",
            "3        96.95          4.28            334.47      1007.48              0\n",
            "4        97.12          4.28            331.52      1007.39              0\n",
            "5        97.15          4.33            329.78      1007.09              0\n",
            "  lmd_diffuseirrad lmd_temperature lmd_pressure lmd_winddirection lmd_windspeed\n",
            "1                0            25.9       1006.3               353           1.1\n",
            "2                0            25.9       1006.2               330           0.9\n",
            "3                0            25.8       1006.3                 1           1.9\n",
            "4                0            25.6       1006.3               309           0.4\n",
            "5                0            25.7       1006.3               335           1.6\n",
            "  power\n",
            "1     0\n",
            "2     0\n",
            "3     0\n",
            "4     0\n",
            "5     0\n"
          ]
        }
      ]
    },
    {
      "cell_type": "code",
      "source": [
        "# Check for missing values\n",
        "cat(\"Checking for missing values...\\n\")\n",
        "missing_values <- sum(is.na(dataset))\n",
        "cat(\"Total missing values: \", missing_values, \"\\n\")"
      ],
      "metadata": {
        "colab": {
          "base_uri": "https://localhost:8080/"
        },
        "id": "BGPvFYaUsdGS",
        "outputId": "800a0a91-ae97-4db5-fef0-be0b644acfec"
      },
      "execution_count": 9,
      "outputs": [
        {
          "output_type": "stream",
          "name": "stdout",
          "text": [
            "Checking for missing values...\n",
            "Total missing values:  0 \n"
          ]
        }
      ]
    },
    {
      "cell_type": "code",
      "source": [
        "# Remove rows with missing values (if necessary)\n",
        "dataset <- na.omit(dataset)\n",
        "cat(\"Dataset dimensions after removing missing values:\\n\")\n",
        "print(dim(dataset))"
      ],
      "metadata": {
        "colab": {
          "base_uri": "https://localhost:8080/"
        },
        "id": "ivn5wK3qsdDm",
        "outputId": "b117816b-afe4-4fb9-fbd7-e2bc889c5f0b"
      },
      "execution_count": 10,
      "outputs": [
        {
          "output_type": "stream",
          "name": "stdout",
          "text": [
            "Dataset dimensions after removing missing values:\n",
            "[1] 28896    15\n"
          ]
        }
      ]
    },
    {
      "cell_type": "code",
      "source": [
        "# Randomly sample 10% of the dataset\n",
        "set.seed(42)  # For reproducibility\n",
        "sample_size <- floor(0.1 * nrow(dataset))\n",
        "sampled_data <- dataset[sample(1:nrow(dataset), sample_size), ]\n",
        "\n",
        "cat(\"First 5 rows of the sampled data (10% of dataset):\\n\")\n",
        "print(head(sampled_data, 5))"
      ],
      "metadata": {
        "colab": {
          "base_uri": "https://localhost:8080/"
        },
        "id": "xSbkRKAisc-y",
        "outputId": "86df06e3-19b3-41b1-a236-3804ec0af870"
      },
      "execution_count": 43,
      "outputs": [
        {
          "output_type": "stream",
          "name": "stdout",
          "text": [
            "First 5 rows of the sampled data (10% of dataset):\n",
            "                date_time nwp_globalirrad nwp_directirrad nwp_temperature\n",
            "27185 2019-05-26 20:00:00            0.00            0.00           15.72\n",
            "28645 2019-06-11 01:00:00          626.01          575.58           27.06\n",
            "18753 2019-02-28 00:00:00           76.17           60.89            2.00\n",
            "21657 2019-03-30 06:00:00          767.57          712.91           11.88\n",
            "9290  2018-11-20 10:15:00            0.00            0.00            6.39\n",
            "      nwp_humidity nwp_windspeed nwp_winddirection nwp_pressure lmd_totalirrad\n",
            "27185        46.42          4.66            354.72      1009.43              0\n",
            "28645        40.46          1.26            359.19      1002.89            589\n",
            "18753        72.41          1.06            104.62      1016.01             55\n",
            "21657        12.02          7.43            338.04      1016.97            884\n",
            "9290         27.71          3.28             70.73      1019.45              0\n",
            "      lmd_diffuseirrad lmd_temperature lmd_pressure lmd_winddirection\n",
            "27185                0            19.3       1007.0               314\n",
            "28645              512            26.3       1001.6                81\n",
            "18753               40            -0.7       1016.3               237\n",
            "21657               75            12.7       1015.8               294\n",
            "9290                 0             8.7       1018.4               355\n",
            "      lmd_windspeed    power\n",
            "27185           3.0 0.000000\n",
            "28645           1.5 2.974219\n",
            "18753           0.7 0.348047\n",
            "21657           5.3 4.619531\n",
            "9290            0.2 0.000000\n"
          ]
        }
      ]
    },
    {
      "cell_type": "code",
      "source": [
        "# Select columns 2, 3, 9, and 10 as features and column 14 as the target (power)\n",
        "X <- sampled_data[, c(2, 3, 9, 10)]\n",
        "y <- sampled_data[, 14]  # Target variable 'power'"
      ],
      "metadata": {
        "id": "lHJf9tgdm-u8"
      },
      "execution_count": 44,
      "outputs": []
    },
    {
      "cell_type": "code",
      "source": [
        "# Train-test split (80% training, 20% testing) on the 10% sample\n",
        "set.seed(42)\n",
        "train_idx <- sample(1:nrow(X), size = 0.8 * nrow(X))\n",
        "test_idx <- setdiff(1:nrow(X), train_idx)\n",
        "\n",
        "X_train <- as.matrix(X[train_idx, ])\n",
        "y_train <- y[train_idx]\n",
        "X_test <- as.matrix(X[test_idx, ])\n",
        "y_test <- y[test_idx]\n",
        "\n",
        "cat(\"Training set size: \", nrow(X_train), \"\\n\")\n",
        "cat(\"Test set size: \", nrow(X_test), \"\\n\")"
      ],
      "metadata": {
        "colab": {
          "base_uri": "https://localhost:8080/"
        },
        "id": "Em5dzVxzm-qt",
        "outputId": "c3dda380-4b6c-46b9-afad-687bfaab17f6"
      },
      "execution_count": 45,
      "outputs": [
        {
          "output_type": "stream",
          "name": "stdout",
          "text": [
            "Training set size:  2311 \n",
            "Test set size:  578 \n"
          ]
        }
      ]
    },
    {
      "cell_type": "code",
      "source": [
        "# Initialize the results data frame with appropriate columns\n",
        "results <- data.frame(\n",
        "  Model = character(),\n",
        "  RMSE = numeric(),\n",
        "  Time = numeric(),\n",
        "  stringsAsFactors = FALSE\n",
        ")"
      ],
      "metadata": {
        "id": "1d-JdTSh1B2N"
      },
      "execution_count": 46,
      "outputs": []
    },
    {
      "cell_type": "code",
      "source": [
        "# Define RMSE function for evaluation\n",
        "rmse <- function(actual, predicted) {\n",
        "  sqrt(mean((actual - predicted)^2))\n",
        "}"
      ],
      "metadata": {
        "id": "GtauopmlsnAv"
      },
      "execution_count": 47,
      "outputs": []
    },
    {
      "cell_type": "code",
      "source": [
        "# 1. Artificial Neural Network (ANN)\n",
        "cat(\"Training ANN model...\\n\")\n",
        "ann_time <- system.time({\n",
        "  ann_model <- keras_model_sequential() %>%\n",
        "    layer_dense(units = 16, input_shape = ncol(X_train), activation = \"relu\") %>%\n",
        "    layer_dense(units = 8, activation = \"relu\") %>%\n",
        "    layer_dense(units = 1)\n",
        "  ann_model %>% compile(optimizer = \"adam\", loss = \"mse\")\n",
        "  ann_model %>% fit(X_train, y_train, epochs = 50, batch_size = 10, verbose = 0)\n",
        "  predictions_ann <- ann_model %>% predict(X_test)\n",
        "})\n",
        "ann_rmse <- rmse(y_test, predictions_ann)\n",
        "results <- rbind(results, data.frame(Model = \"ANN\", RMSE = ann_rmse, Time = ann_time[\"elapsed\"]))\n"
      ],
      "metadata": {
        "colab": {
          "base_uri": "https://localhost:8080/"
        },
        "id": "WywqULsrm-VK",
        "outputId": "3e3a3b4f-a53c-4fbd-8066-a1a67cf34668"
      },
      "execution_count": 48,
      "outputs": [
        {
          "output_type": "stream",
          "name": "stdout",
          "text": [
            "Training ANN model...\n"
          ]
        }
      ]
    },
    {
      "cell_type": "code",
      "source": [
        "# 2. Support Vector Machine (SVM)\n",
        "cat(\"Training SVM model...\\n\")\n",
        "svm_time <- system.time({\n",
        "  svm_model <- svm(X_train, y_train)\n",
        "  predictions_svm <- predict(svm_model, X_test)\n",
        "})\n",
        "svm_rmse <- rmse(y_test, predictions_svm)\n",
        "results <- rbind(results, data.frame(Model = \"SVM\", RMSE = svm_rmse, Time = svm_time[\"elapsed\"]))\n"
      ],
      "metadata": {
        "colab": {
          "base_uri": "https://localhost:8080/"
        },
        "id": "roprCkuSnHk1",
        "outputId": "c6fabc72-c19b-49e7-86d2-d50fdece01cb"
      },
      "execution_count": 49,
      "outputs": [
        {
          "output_type": "stream",
          "name": "stdout",
          "text": [
            "Training SVM model...\n"
          ]
        }
      ]
    },
    {
      "cell_type": "code",
      "source": [
        "# 3. Decision Tree\n",
        "cat(\"Training Decision Tree model...\\n\")\n",
        "dt_time <- system.time({\n",
        "  dt_model <- rpart(y_train ~ ., data = as.data.frame(X_train))\n",
        "  predictions_dt <- predict(dt_model, as.data.frame(X_test))\n",
        "})\n",
        "dt_rmse <- rmse(y_test, predictions_dt)\n",
        "results <- rbind(results, data.frame(Model = \"Decision Tree\", RMSE = dt_rmse, Time = dt_time[\"elapsed\"]))\n"
      ],
      "metadata": {
        "colab": {
          "base_uri": "https://localhost:8080/"
        },
        "id": "V010XQ9EnHiA",
        "outputId": "6bd5ffb4-de37-4e4f-ff28-e93dbe7ccbce"
      },
      "execution_count": 50,
      "outputs": [
        {
          "output_type": "stream",
          "name": "stdout",
          "text": [
            "Training Decision Tree model...\n"
          ]
        }
      ]
    },
    {
      "cell_type": "code",
      "source": [
        "# 4. Random Forest\n",
        "cat(\"Training Random Forest model...\\n\")\n",
        "rf_time <- system.time({\n",
        "  rf_model <- randomForest(X_train, y_train, ntree = 100)\n",
        "  predictions_rf <- predict(rf_model, X_test)\n",
        "})\n",
        "rf_rmse <- rmse(y_test, predictions_rf)\n",
        "results <- rbind(results, data.frame(Model = \"Random Forest\", RMSE = rf_rmse, Time = rf_time[\"elapsed\"]))\n"
      ],
      "metadata": {
        "colab": {
          "base_uri": "https://localhost:8080/"
        },
        "id": "I5Sn9AianHfi",
        "outputId": "a2db8e6b-307c-4690-ec9b-623464630e77"
      },
      "execution_count": 51,
      "outputs": [
        {
          "output_type": "stream",
          "name": "stdout",
          "text": [
            "Training Random Forest model...\n"
          ]
        }
      ]
    },
    {
      "cell_type": "code",
      "source": [
        "# 5. XGBoost\n",
        "cat(\"Training XGBoost model...\\n\")\n",
        "xgb_time <- system.time({\n",
        "  dtrain <- xgb.DMatrix(data = X_train, label = y_train)\n",
        "  dtest <- xgb.DMatrix(data = X_test)\n",
        "  xgb_model <- xgb.train(list(objective = \"reg:squarederror\", eta = 0.1, max_depth = 3), data = dtrain, nrounds = 50)\n",
        "  predictions_xgb <- predict(xgb_model, dtest)\n",
        "})\n",
        "xgb_rmse <- rmse(y_test, predictions_xgb)\n",
        "results <- rbind(results, data.frame(Model = \"XGBoost\", RMSE = xgb_rmse, Time = xgb_time[\"elapsed\"]))\n"
      ],
      "metadata": {
        "colab": {
          "base_uri": "https://localhost:8080/"
        },
        "id": "aMuGUYF-nHcf",
        "outputId": "a33be31b-6e2f-4344-e1d4-c49a9aa15735"
      },
      "execution_count": 52,
      "outputs": [
        {
          "output_type": "stream",
          "name": "stdout",
          "text": [
            "Training XGBoost model...\n"
          ]
        }
      ]
    },
    {
      "cell_type": "code",
      "source": [
        "# 6. Convolutional Neural Network (CNN)\n",
        "cat(\"Training CNN model...\\n\")\n",
        "cnn_time <- system.time({\n",
        "  # Reshape input data for CNN (CNNs expect a 3D input: samples, timesteps, features)\n",
        "  X_train_cnn <- array(X_train, dim = c(nrow(X_train), ncol(X_train), 1))\n",
        "  X_test_cnn <- array(X_test, dim = c(nrow(X_test), ncol(X_test), 1))\n",
        "\n",
        "  cnn_model <- keras_model_sequential() %>%\n",
        "    layer_conv_1d(filters = 32, kernel_size = 2, activation = \"relu\", input_shape = c(ncol(X_train), 1)) %>%\n",
        "    layer_max_pooling_1d(pool_size = 2) %>%\n",
        "    layer_flatten() %>%\n",
        "    layer_dense(units = 16, activation = \"relu\") %>%\n",
        "    layer_dense(units = 1)\n",
        "\n",
        "  cnn_model %>% compile(optimizer = \"adam\", loss = \"mse\")\n",
        "  cnn_model %>% fit(X_train_cnn, y_train, epochs = 50, batch_size = 10, verbose = 0)\n",
        "\n",
        "  predictions_cnn <- cnn_model %>% predict(X_test_cnn)\n",
        "})\n",
        "cnn_rmse <- rmse(y_test, predictions_cnn)\n",
        "results <- rbind(results, data.frame(Model = \"CNN\", RMSE = cnn_rmse, Time = cnn_time[\"elapsed\"]))\n"
      ],
      "metadata": {
        "colab": {
          "base_uri": "https://localhost:8080/"
        },
        "id": "DJJ3bMe9nHZc",
        "outputId": "13242301-1cf6-48a4-dab0-a528c21d360a"
      },
      "execution_count": 53,
      "outputs": [
        {
          "output_type": "stream",
          "name": "stdout",
          "text": [
            "Training CNN model...\n"
          ]
        }
      ]
    },
    {
      "cell_type": "code",
      "source": [
        "# 7. Long Short-Term Memory (LSTM)\n",
        "cat(\"Training LSTM model...\\n\")\n",
        "lstm_time <- system.time({\n",
        "  # Reshape input data for LSTM (LSTM expects a 3D input: samples, timesteps, features)\n",
        "  X_train_lstm <- array(X_train, dim = c(nrow(X_train), ncol(X_train), 1))\n",
        "  X_test_lstm <- array(X_test, dim = c(nrow(X_test), ncol(X_test), 1))\n",
        "\n",
        "  lstm_model <- keras_model_sequential() %>%\n",
        "    layer_lstm(units = 50, input_shape = list(ncol(X_train), 1), return_sequences = FALSE) %>%\n",
        "    layer_dense(units = 1)\n",
        "\n",
        "  lstm_model %>% compile(optimizer = \"adam\", loss = \"mse\")\n",
        "  lstm_model %>% fit(X_train_lstm, y_train, epochs = 50, batch_size = 10, verbose = 0)\n",
        "\n",
        "  predictions_lstm <- lstm_model %>% predict(X_test_lstm)\n",
        "})\n",
        "lstm_rmse <- rmse(y_test, predictions_lstm)\n",
        "results <- rbind(results, data.frame(Model = \"LSTM\", RMSE = lstm_rmse, Time = lstm_time[\"elapsed\"]))"
      ],
      "metadata": {
        "colab": {
          "base_uri": "https://localhost:8080/"
        },
        "id": "R-Wl8fW2nHTu",
        "outputId": "29c1a05e-2492-41f6-ecca-3b3a2d1985f8"
      },
      "execution_count": 54,
      "outputs": [
        {
          "output_type": "stream",
          "name": "stdout",
          "text": [
            "Training LSTM model...\n"
          ]
        }
      ]
    },
    {
      "cell_type": "code",
      "source": [
        "# ---------- Model Evaluation Visualizations ----------\n",
        "\n",
        "# Convert RMSE and Time columns to numeric for visualization\n",
        "results$RMSE <- as.numeric(results$RMSE)\n",
        "results$Time <- as.numeric(results$Time)"
      ],
      "metadata": {
        "id": "frMzLvBFnMTJ"
      },
      "execution_count": 55,
      "outputs": []
    },
    {
      "cell_type": "code",
      "source": [
        "# Plot RMSE comparison\n",
        "cat(\"Plotting RMSE comparison...\\n\")\n",
        "ggplot(results, aes(x = reorder(Model, RMSE), y = RMSE)) +\n",
        "  geom_bar(stat = \"identity\", fill = \"skyblue\") +\n",
        "  geom_text(aes(label = round(RMSE, 4)), vjust = -0.5) +\n",
        "  labs(title = \"Model RMSE Comparison\", x = \"Model\", y = \"Root Mean Squared Error\") +\n",
        "  theme_minimal()"
      ],
      "metadata": {
        "colab": {
          "base_uri": "https://localhost:8080/",
          "height": 455
        },
        "id": "rHe1uKKyzje0",
        "outputId": "9c2a47c9-0a88-4c83-f4c3-d4154c3dbb12"
      },
      "execution_count": 56,
      "outputs": [
        {
          "output_type": "stream",
          "name": "stdout",
          "text": [
            "Plotting RMSE comparison...\n"
          ]
        },
        {
          "output_type": "display_data",
          "data": {
            "text/plain": [
              "plot without title"
            ],
            "image/png": "[encoded data removed]"
          },
          "metadata": {
            "image/png": {
              "width": 420,
              "height": 420
            }
          }
        }
      ]
    },
    {
      "cell_type": "code",
      "source": [
        "# Plot training times comparison\n",
        "cat(\"Plotting training time comparison...\\n\")\n",
        "ggplot(results, aes(x = reorder(Model, Time), y = Time)) +\n",
        "  geom_bar(stat = \"identity\", fill = \"coral\") +\n",
        "  geom_text(aes(label = round(Time, 2)), vjust = -0.5) +\n",
        "  labs(title = \"Model Training Time Comparison\", x = \"Model\", y = \"Time (seconds)\") +\n",
        "  theme_minimal()"
      ],
      "metadata": {
        "colab": {
          "base_uri": "https://localhost:8080/",
          "height": 455
        },
        "id": "byPILWbwnMP3",
        "outputId": "ff6c4398-9070-49a3-de06-204737bbce45"
      },
      "execution_count": 57,
      "outputs": [
        {
          "output_type": "stream",
          "name": "stdout",
          "text": [
            "Plotting training time comparison...\n"
          ]
        },
        {
          "output_type": "display_data",
          "data": {
            "text/plain": [
              "plot without title"
            ],
            "image/png": "[encoded data removed]"
          },
          "metadata": {
            "image/png": {
              "width": 420,
              "height": 420
            }
          }
        }
      ]
    },
    {
      "cell_type": "code",
      "source": [],
      "metadata": {
        "id": "EK-pArrBvXnr"
      },
      "execution_count": null,
      "outputs": []
    }
  ]
}