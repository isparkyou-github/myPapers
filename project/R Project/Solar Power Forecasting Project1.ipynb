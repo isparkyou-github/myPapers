{
  "cells": [
    {
      "cell_type": "code",
      "execution_count": 1,
      "metadata": {
        "colab": {
          "base_uri": "https://localhost:8080/",
          "height": 285
        },
        "id": "HurP_qNgg0Lr",
        "outputId": "f7d9d173-b4eb-49df-c167-cd0d709bc527"
      },
      "outputs": [
        {
          "output_type": "display_data",
          "data": {
            "text/plain": [
              "               _                           \n",
              "platform       x86_64-pc-linux-gnu         \n",
              "arch           x86_64                      \n",
              "os             linux-gnu                   \n",
              "system         x86_64, linux-gnu           \n",
              "status                                     \n",
              "major          4                           \n",
              "minor          4.1                         \n",
              "year           2024                        \n",
              "month          06                          \n",
              "day            14                          \n",
              "svn rev        86737                       \n",
              "language       R                           \n",
              "version.string R version 4.4.1 (2024-06-14)\n",
              "nickname       Race for Your Life          "
            ]
          },
          "metadata": {}
        }
      ],
      "source": [
        "version"
      ]
    },
    {
      "cell_type": "code",
      "execution_count": 2,
      "metadata": {
        "colab": {
          "base_uri": "https://localhost:8080/"
        },
        "id": "O6-Kr-FmhCSB",
        "outputId": "5b3a1cdf-3877-467e-c736-aac3b96d9687"
      },
      "outputs": [
        {
          "output_type": "stream",
          "name": "stderr",
          "text": [
            "Installing package into ‘/usr/local/lib/R/site-library’\n",
            "(as ‘lib’ is unspecified)\n",
            "\n",
            "also installing the dependencies ‘RcppTOML’, ‘here’, ‘png’, ‘config’, ‘tfautograph’, ‘reticulate’, ‘tensorflow’, ‘tfruns’, ‘zeallot’\n",
            "\n",
            "\n",
            "Warning message in install.packages(\"keras\"):\n",
            "“installation of package ‘RcppTOML’ had non-zero exit status”\n",
            "Warning message in install.packages(\"keras\"):\n",
            "“installation of package ‘reticulate’ had non-zero exit status”\n",
            "Warning message in install.packages(\"keras\"):\n",
            "“installation of package ‘tfautograph’ had non-zero exit status”\n",
            "Warning message in install.packages(\"keras\"):\n",
            "“installation of package ‘tfruns’ had non-zero exit status”\n",
            "Warning message in install.packages(\"keras\"):\n",
            "“installation of package ‘tensorflow’ had non-zero exit status”\n",
            "Warning message in install.packages(\"keras\"):\n",
            "“installation of package ‘keras’ had non-zero exit status”\n",
            "Installing package into ‘/usr/local/lib/R/site-library’\n",
            "(as ‘lib’ is unspecified)\n",
            "\n"
          ]
        }
      ],
      "source": [
        "# Load required libraries\n",
        "# install.packages(\"keras\")\n",
        "# install.packages(\"xgboost\")\n",
        "install.packages(\"randomForest\")"
      ]
    },
    {
      "cell_type": "code",
      "execution_count": 3,
      "metadata": {
        "colab": {
          "base_uri": "https://localhost:8080/"
        },
        "id": "rAbb8jM8kCMe",
        "outputId": "f24ab360-50bc-4957-cabd-2371f1f73c94"
      },
      "outputs": [
        {
          "output_type": "stream",
          "name": "stderr",
          "text": [
            "Installing package into ‘/usr/local/lib/R/site-library’\n",
            "(as ‘lib’ is unspecified)\n",
            "\n",
            "also installing the dependencies ‘RcppTOML’, ‘tfautograph’, ‘reticulate’, ‘tensorflow’, ‘tfruns’\n",
            "\n",
            "\n"
          ]
        }
      ],
      "source": [
        "# remove.packages(\"keras\")\n",
        "install.packages(\"keras3\")\n",
        "# library(keras3)"
      ]
    },
    {
      "cell_type": "code",
      "execution_count": 4,
      "metadata": {
        "colab": {
          "base_uri": "https://localhost:8080/"
        },
        "id": "Of68toswVr-t",
        "outputId": "7956372f-d004-41e3-a01f-7ba195ce71a4"
      },
      "outputs": [
        {
          "output_type": "stream",
          "name": "stderr",
          "text": [
            "Installing package into ‘/usr/local/lib/R/site-library’\n",
            "(as ‘lib’ is unspecified)\n",
            "\n"
          ]
        }
      ],
      "source": [
        "install.packages(\"xgboost\")"
      ]
    },
    {
      "cell_type": "code",
      "execution_count": 5,
      "metadata": {
        "colab": {
          "base_uri": "https://localhost:8080/"
        },
        "id": "gdEFfJd-l_3S",
        "outputId": "20e81c2f-16c7-43c4-acde-6ea0afa95936"
      },
      "outputs": [
        {
          "output_type": "stream",
          "name": "stderr",
          "text": [
            "Installing package into ‘/usr/local/lib/R/site-library’\n",
            "(as ‘lib’ is unspecified)\n",
            "\n"
          ]
        }
      ],
      "source": [
        "install.packages(\"ggplot2\")"
      ]
    },
    {
      "cell_type": "code",
      "execution_count": null,
      "metadata": {
        "colab": {
          "base_uri": "https://localhost:8080/"
        },
        "id": "82o4DJKOQAiW",
        "outputId": "ecc40de1-740d-41e2-8e38-ce5c4bb708a0"
      },
      "outputs": [
        {
          "name": "stderr",
          "output_type": "stream",
          "text": [
            "Installing package into ‘/usr/local/lib/R/site-library’\n",
            "(as ‘lib’ is unspecified)\n",
            "\n",
            "Downloading GitHub repo dmlc/xgboost@HEAD\n",
            "\n",
            "'/usr/bin/git' clone --depth 1 --no-hardlinks --recurse-submodules --branch main https://github.com/dmlc/dmlc-core /tmp/RtmppQGUaU/remotesa77309f328/dmlc-xgboost-24aeaf4/R-package/../dmlc-core\n",
            "\n",
            "'/usr/bin/git' clone --depth 1 --no-hardlinks --recurse-submodules https://github.com/rapidsai/gputreeshap.git /tmp/RtmppQGUaU/remotesa77309f328/dmlc-xgboost-24aeaf4/R-package/../gputreeshap\n",
            "\n"
          ]
        },
        {
          "name": "stdout",
          "output_type": "stream",
          "text": [
            "data.table (1.16.0 -> 1.16.2) [CRAN]\n"
          ]
        },
        {
          "name": "stderr",
          "output_type": "stream",
          "text": [
            "Installing 1 packages: data.table\n",
            "\n",
            "Installing package into ‘/usr/local/lib/R/site-library’\n",
            "(as ‘lib’ is unspecified)\n",
            "\n"
          ]
        },
        {
          "name": "stdout",
          "output_type": "stream",
          "text": [
            "\u001b[36m──\u001b[39m \u001b[36mR CMD build\u001b[39m \u001b[36m─────────────────────────────────────────────────────────────────\u001b[39m\n",
            "* checking for file ‘/tmp/RtmppQGUaU/remotesa77309f328/dmlc-xgboost-24aeaf4/R-package/DESCRIPTION’ ... OK\n",
            "* preparing ‘xgboost’:\n",
            "* checking DESCRIPTION meta-information ... OK\n",
            "* cleaning src\n",
            "* running ‘cleanup’\n",
            "* checking for LF line-endings in source and make files and shell scripts\n",
            "* checking for empty or unneeded directories\n",
            "* looking to see if a ‘data/datalist’ file should be added\n",
            "* building ‘xgboost_2.2.0.0.tar.gz’\n",
            "\n"
          ]
        },
        {
          "name": "stderr",
          "output_type": "stream",
          "text": [
            "Installing package into ‘/usr/local/lib/R/site-library’\n",
            "(as ‘lib’ is unspecified)\n",
            "\n",
            "Warning message in i.p(...):\n",
            "“installation of package ‘/tmp/RtmppQGUaU/filea778a08cdf/xgboost_2.2.0.0.tar.gz’ had non-zero exit status”\n"
          ]
        }
      ],
      "source": [
        "# install.packages(\"remotes\")\n",
        "# remotes::install_github(\"dmlc/xgboost\", subdir = \"R-package\")"
      ]
    },
    {
      "cell_type": "code",
      "execution_count": 6,
      "metadata": {
        "colab": {
          "base_uri": "https://localhost:8080/"
        },
        "id": "jJlQT4uXH15D",
        "outputId": "08fac534-b676-44c0-fb2c-0fd604c21e57"
      },
      "outputs": [
        {
          "output_type": "stream",
          "name": "stderr",
          "text": [
            "randomForest 4.7-1.2\n",
            "\n",
            "Type rfNews() to see new features/changes/bug fixes.\n",
            "\n",
            "\n",
            "Attaching package: ‘ggplot2’\n",
            "\n",
            "\n",
            "The following object is masked from ‘package:randomForest’:\n",
            "\n",
            "    margin\n",
            "\n",
            "\n"
          ]
        }
      ],
      "source": [
        "library(keras3)\n",
        "library(xgboost)\n",
        "library(randomForest)\n",
        "library(ggplot2)"
      ]
    },
    {
      "cell_type": "code",
      "execution_count": null,
      "metadata": {
        "colab": {
          "base_uri": "https://localhost:8080/",
          "height": 34
        },
        "id": "C0tTIvGueNHb",
        "outputId": "422f1c37-5a93-4b39-d1fb-e2b1909fea7a"
      },
      "outputs": [
        {
          "data": {
            "text/html": [
              "'/content'"
            ],
            "text/latex": "'/content'",
            "text/markdown": "'/content'",
            "text/plain": [
              "[1] \"/content\""
            ]
          },
          "metadata": {},
          "output_type": "display_data"
        }
      ],
      "source": [
        "getwd()"
      ]
    },
    {
      "cell_type": "code",
      "execution_count": 2,
      "metadata": {
        "id": "zTp_gFESIDOP"
      },
      "outputs": [],
      "source": [
        "# List of dataset file paths\n",
        "dataset_files <- c(\"/content/dataset_files/station00.csv\")\n",
        "# , \"/content/dataset_files/station01.csv\", \"/content/dataset_files/station02.csv\", \"/content/dataset_files/station03.csv\", \"/content/dataset_files/station04.csv\", \"/content/dataset_files/station05.csv\", \"/content/dataset_files/station06.csv\", \"/content/dataset_files/station07.csv\", \"/content/dataset_files/station08.csv\", \"/content/dataset_files/station09.csv\""
      ]
    },
    {
      "cell_type": "code",
      "execution_count": 3,
      "metadata": {
        "id": "aMX2gtMsQ9EE"
      },
      "outputs": [],
      "source": [
        "# Initialize empty list to store datasets\n",
        "datasets <- list()"
      ]
    },
    {
      "cell_type": "code",
      "execution_count": 4,
      "metadata": {
        "id": "r0EyZdTMQ9f9",
        "colab": {
          "base_uri": "https://localhost:8080/",
          "height": 341
        },
        "outputId": "ab72a2ea-e431-4ce3-c4fc-a9693045f8e6"
      },
      "outputs": [
        {
          "output_type": "stream",
          "name": "stderr",
          "text": [
            "Warning message in file(file, \"rt\"):\n",
            "“cannot open file '/content/dataset_files/station00.csv': No such file or directory”\n"
          ]
        },
        {
          "output_type": "error",
          "ename": "ERROR",
          "evalue": "Error in file(file, \"rt\"): cannot open the connection\n",
          "traceback": [
            "Error in file(file, \"rt\"): cannot open the connection\nTraceback:\n",
            "1. read.table(file = file, header = header, sep = sep, quote = quote, \n .     dec = dec, fill = fill, comment.char = comment.char, ...)",
            "2. file(file, \"rt\")",
            "3. .handleSimpleError(function (cnd) \n . {\n .     watcher$capture_plot_and_output()\n .     cnd <- sanitize_call(cnd)\n .     watcher$push(cnd)\n .     switch(on_error, continue = invokeRestart(\"eval_continue\"), \n .         stop = invokeRestart(\"eval_stop\"), error = invokeRestart(\"eval_error\", \n .             cnd))\n . }, \"cannot open the connection\", base::quote(file(file, \"rt\")))"
          ]
        }
      ],
      "source": [
        "# Loop through each dataset file and load into a list\n",
        "for (file in dataset_files) {\n",
        "  dataset <- read.csv(file)  # Load each dataset\n",
        "  datasets[[file]] <- dataset  # Store in the list\n",
        "}"
      ]
    },
    {
      "cell_type": "code",
      "execution_count": 13,
      "metadata": {
        "id": "P0fDjW-DQ-uB"
      },
      "outputs": [],
      "source": [
        "# Combine all datasets into one large dataset\n",
        "combined_dataset <- do.call(rbind, datasets)"
      ]
    },
    {
      "cell_type": "code",
      "source": [
        "# Subset the data to only use 300 samples\n",
        "set.seed(42)\n",
        "sampled_idx <- sample(1:nrow(combined_dataset), 300)\n",
        "sampled_data <- combined_dataset[sampled_idx, ]"
      ],
      "metadata": {
        "id": "I03Pa8bwhxVO"
      },
      "execution_count": 67,
      "outputs": []
    },
    {
      "cell_type": "code",
      "execution_count": 68,
      "metadata": {
        "id": "0tiMlOLbIDuv"
      },
      "outputs": [],
      "source": [
        "# Select middle 13 columns as features and last column as the target variable\n",
        "if (ncol(combined_dataset) < 15) stop(\"Not enough columns in the dataset.\")\n",
        "X <- combined_dataset[, 2:(ncol(combined_dataset)-1)]  # Middle 13 columns as features\n",
        "y <- combined_dataset$power  # Last column 'power' as the target"
      ]
    },
    {
      "cell_type": "code",
      "execution_count": 69,
      "metadata": {
        "id": "tDbr9PewIGSl"
      },
      "outputs": [],
      "source": [
        "# Split into 80% training and 20% testing\n",
        "set.seed(42)\n",
        "n <- nrow(X)\n",
        "train_idx <- sample(1:n, size = 0.8 * n)\n",
        "test_idx <- setdiff(1:n, train_idx)"
      ]
    },
    {
      "cell_type": "code",
      "source": [
        "cat(\"Number of rows in train_set: \", nrow(train_idx), \"\\n\")\n",
        "cat(\"Number of rows in test_set: \", nrow(test_idx), \"\\n\")"
      ],
      "metadata": {
        "id": "6al5Uka10eJi"
      },
      "execution_count": null,
      "outputs": []
    },
    {
      "cell_type": "code",
      "source": [
        "# Inside the For-loop, write code so that one histogram is plotted for each column.\n",
        "for(i in 2:14) {\n",
        "# 提取第 i 列的列名\n",
        "  column_name <- names(dataset)[i]\n",
        "  # 绘制直方图\n",
        "  hist(Smarket[[i]], main = paste(\"Histogram of\", column_name), xlab = column_name)\n",
        "}"
      ],
      "metadata": {
        "id": "Ut_iIi9p9TEj"
      },
      "execution_count": null,
      "outputs": []
    },
    {
      "cell_type": "code",
      "source": [
        "mmodel <- lm (power ~ lmd_windspeed + lmd_winddirection + lmd_pressure + lmd_temperature + lmd_diffuseirrad + lmd_totalirrad + nwp_pressure + nwp_winddirection + nwp_windspeed + nwp_humidity + nwp_globalirrad + nwp_directirrad + nwp_temperature, data = train_idx)"
      ],
      "metadata": {
        "id": "zcf5d3Au1EBM"
      },
      "execution_count": null,
      "outputs": []
    },
    {
      "cell_type": "code",
      "source": [
        "summary(mmodel)"
      ],
      "metadata": {
        "id": "L5_rppux1Sor"
      },
      "execution_count": null,
      "outputs": []
    },
    {
      "cell_type": "code",
      "source": [
        "summary(mmodel)$coef"
      ],
      "metadata": {
        "id": "AtZMn9Xw2a94"
      },
      "execution_count": null,
      "outputs": []
    },
    {
      "cell_type": "code",
      "source": [
        "RSE = sigma(mmodel)  # RSE\n",
        "error_rate = RSE/mean(train_set$sales)\n",
        "\n",
        "print(RSE)\n",
        "print(error_rate)"
      ],
      "metadata": {
        "id": "d2q1MKlt2stV"
      },
      "execution_count": null,
      "outputs": []
    },
    {
      "cell_type": "code",
      "source": [
        "library()"
      ],
      "metadata": {
        "id": "zvGq7rUbwLdN"
      },
      "execution_count": null,
      "outputs": []
    },
    {
      "cell_type": "code",
      "source": [
        "library(Amelia)\n",
        "library(mlbench)\n",
        "missmap(mmodel, col=c(\"blue\", \"red\"), legend=FALSE)"
      ],
      "metadata": {
        "id": "VfsfDnM5vsJQ"
      },
      "execution_count": null,
      "outputs": []
    },
    {
      "cell_type": "code",
      "source": [
        "library(corrplot)\n",
        "\n",
        "# Calculate the correlation matrix using the `cor` function\n",
        "correlations <- cor(mmodel[, 2:14])#complete here\n",
        "correlations"
      ],
      "metadata": {
        "id": "sJMmayB2weOB"
      },
      "execution_count": null,
      "outputs": []
    },
    {
      "cell_type": "code",
      "source": [
        "# Use the corrplot function with the shade method.\n",
        "corrplot(correlations, method = \"shade\")"
      ],
      "metadata": {
        "id": "wz7oA5OvwlG2"
      },
      "execution_count": null,
      "outputs": []
    },
    {
      "cell_type": "code",
      "source": [
        "# Use the corrplot function with the pie method.\n",
        "corrplot(correlations, method = \"pie\")"
      ],
      "metadata": {
        "id": "0l0q0cH3wnTP"
      },
      "execution_count": null,
      "outputs": []
    },
    {
      "cell_type": "code",
      "source": [
        "# Use the corrplot function with the circle method.\n",
        "corrplot(correlations, method = \"circle\")"
      ],
      "metadata": {
        "id": "TcDE-jfFwop-"
      },
      "execution_count": null,
      "outputs": []
    },
    {
      "cell_type": "code",
      "source": [
        "pairs(mmodel, col=mmodel$power)"
      ],
      "metadata": {
        "id": "pW51cLl2wqaC"
      },
      "execution_count": null,
      "outputs": []
    },
    {
      "cell_type": "code",
      "source": [
        "library(caret)"
      ],
      "metadata": {
        "id": "jt4RK_Mdw0l2"
      },
      "execution_count": null,
      "outputs": []
    },
    {
      "cell_type": "code",
      "source": [
        "x <- Smarket[,2:14]\n",
        "y <- Smarket[,15]\n",
        "scales <- list(x=list(relation=\"free\"), y=list(relation=\"free\"))\n",
        "featurePlot(x=x, y=y, plot=\"density\", scales=scales)"
      ],
      "metadata": {
        "id": "FA_m9XzCw6D_"
      },
      "execution_count": null,
      "outputs": []
    },
    {
      "cell_type": "code",
      "source": [
        "# Create a  Logistics Regression called glm.fit, having Direction as Dependent Variable.\n",
        "# Don't forget to provide the family parameter.\n",
        "glm.fit <- glm(power ~ lmd_windspeed + lmd_winddirection + lmd_pressure + lmd_temperature + lmd_diffuseirrad + lmd_totalirrad + nwp_pressure + nwp_winddirection + nwp_windspeed + nwp_humidity + nwp_globalirrad + nwp_directirrad + nwp_temperature, data = mmodel, family = binomial)#Complete here"
      ],
      "metadata": {
        "id": "cSTuUkuIxKkw"
      },
      "execution_count": null,
      "outputs": []
    },
    {
      "cell_type": "code",
      "source": [
        "summary(glm.fit)"
      ],
      "metadata": {
        "id": "2PzqQZNvxWuX"
      },
      "execution_count": null,
      "outputs": []
    },
    {
      "cell_type": "code",
      "source": [
        "glm.probs <- predict(glm.fit,type = \"response\")\n",
        "glm.probs[1:5]"
      ],
      "metadata": {
        "id": "H0vJXxBixZL-"
      },
      "execution_count": null,
      "outputs": []
    },
    {
      "cell_type": "code",
      "source": [
        "# Write your code here, use the ifelse function and 0.5 as threshold to define \"Up\" and \"Down\".\n",
        "glm.pred <- ifelse(glm.probs > 0.5, \"Up\", \"Down\")#Complete here."
      ],
      "metadata": {
        "id": "AkmqARYKyXGs"
      },
      "execution_count": null,
      "outputs": []
    },
    {
      "cell_type": "code",
      "source": [
        "attach(mmodel)\n",
        "table(glm.pred,Direction)"
      ],
      "metadata": {
        "id": "MCe7YzasyZTF"
      },
      "execution_count": null,
      "outputs": []
    },
    {
      "cell_type": "code",
      "source": [
        "# Use the mean function to check accuracy.\n",
        "mean(glm.pred == power)"
      ],
      "metadata": {
        "id": "so3qqAKvydo9"
      },
      "execution_count": null,
      "outputs": []
    },
    {
      "cell_type": "code",
      "execution_count": 70,
      "metadata": {
        "id": "DZnsB3pXIH7s"
      },
      "outputs": [],
      "source": [
        "X_train <- as.matrix(X[train_idx, ])\n",
        "y_train <- y[train_idx]\n",
        "X_test <- as.matrix(X[test_idx, ])\n",
        "y_test <- y[test_idx]"
      ]
    },
    {
      "cell_type": "code",
      "source": [],
      "metadata": {
        "id": "yJDK8upxywqI"
      },
      "execution_count": null,
      "outputs": []
    },
    {
      "cell_type": "code",
      "source": [
        "head(dataset,10)"
      ],
      "metadata": {
        "id": "8vaaJ48evjhe"
      },
      "execution_count": null,
      "outputs": []
    },
    {
      "cell_type": "code",
      "source": [
        "tail(dataset,10)"
      ],
      "metadata": {
        "id": "Hfj3R3_yv910"
      },
      "execution_count": null,
      "outputs": []
    },
    {
      "cell_type": "code",
      "source": [
        "summary(dataset)"
      ],
      "metadata": {
        "id": "dDT65d7iv9ot"
      },
      "execution_count": null,
      "outputs": []
    },
    {
      "cell_type": "code",
      "source": [
        "str(dataset)"
      ],
      "metadata": {
        "id": "fZPcZBeewMz3"
      },
      "execution_count": null,
      "outputs": []
    },
    {
      "cell_type": "code",
      "source": [
        "length(dataset)"
      ],
      "metadata": {
        "id": "Cq3AMY2rwMqa"
      },
      "execution_count": null,
      "outputs": []
    },
    {
      "cell_type": "code",
      "source": [
        "names(dataset)"
      ],
      "metadata": {
        "id": "vBDntiPCwMfU"
      },
      "execution_count": null,
      "outputs": []
    },
    {
      "cell_type": "code",
      "source": [
        "colnames(dataset)"
      ],
      "metadata": {
        "id": "Sm0041JowRwM"
      },
      "execution_count": null,
      "outputs": []
    },
    {
      "cell_type": "code",
      "source": [
        "plot(dataset)"
      ],
      "metadata": {
        "id": "cIsd6ZpRwYp9"
      },
      "execution_count": null,
      "outputs": []
    },
    {
      "cell_type": "code",
      "source": [
        "plot(dataset$power, dataset$Income, xlab = 'Power', ylab = 'Income', main = 'Age vs Income')"
      ],
      "metadata": {
        "id": "AenadvZOwloj"
      },
      "execution_count": null,
      "outputs": []
    },
    {
      "cell_type": "code",
      "source": [
        "df$Gender <- factor(df$Gender)\n",
        "df$Education <- factor(df$Education)"
      ],
      "metadata": {
        "id": "AysOyq9ewsDh"
      },
      "execution_count": null,
      "outputs": []
    },
    {
      "cell_type": "code",
      "source": [
        "hist(df$power, xlab = 'Power', main = 'Histogram of Power')"
      ],
      "metadata": {
        "id": "NYkp9-EixCGU"
      },
      "execution_count": null,
      "outputs": []
    },
    {
      "cell_type": "code",
      "execution_count": 71,
      "metadata": {
        "id": "yTtx7K8HIOCH"
      },
      "outputs": [],
      "source": [
        "# Prepare data for LSTM\n",
        "X_train_lstm <- array(X_train, dim = c(nrow(X_train), ncol(X_train), 1))\n",
        "X_test_lstm <- array(X_test, dim = c(nrow(X_test), ncol(X_test), 1))"
      ]
    },
    {
      "cell_type": "code",
      "execution_count": 72,
      "metadata": {
        "id": "hCCqz5_wgAuR"
      },
      "outputs": [],
      "source": [
        "# Build LSTM model - note that we explicitly pass 'input_shape' as a keyword argument\n",
        "lstm_model <- keras_model_sequential()"
      ]
    },
    {
      "cell_type": "code",
      "execution_count": 73,
      "metadata": {
        "id": "-bEzk3vogDYS"
      },
      "outputs": [],
      "source": [
        "# Add LSTM layer\n",
        "lstm_model %>%\n",
        "  layer_lstm(units = 10, input_shape = list(ncol(X_train), 1), return_sequences = FALSE)"
      ]
    },
    {
      "cell_type": "code",
      "execution_count": 74,
      "metadata": {
        "id": "CY8hyl2Bgkcy"
      },
      "outputs": [],
      "source": [
        "# Add dense layer\n",
        "lstm_model %>%\n",
        "  layer_dense(units = 1)"
      ]
    },
    {
      "cell_type": "code",
      "execution_count": 75,
      "metadata": {
        "id": "coLupoNmfNyh"
      },
      "outputs": [],
      "source": [
        "# Compile the model\n",
        "lstm_model %>% compile(\n",
        "  optimizer = 'adam',\n",
        "  loss = 'mse'\n",
        ")"
      ]
    },
    {
      "cell_type": "code",
      "execution_count": 76,
      "metadata": {
        "id": "UFZP_wMIITLZ"
      },
      "outputs": [],
      "source": [
        "# Train the LSTM model\n",
        "lstm_model %>% fit(\n",
        "  X_train_lstm, y_train, epochs = 10, batch_size = 30, verbose = 1\n",
        ")"
      ]
    },
    {
      "cell_type": "code",
      "execution_count": 77,
      "metadata": {
        "id": "b_FZlS7_Myo3"
      },
      "outputs": [],
      "source": [
        "# Get predictions from the LSTM model\n",
        "lstm_train_pred <- lstm_model %>% predict(X_train_lstm)\n",
        "lstm_test_pred <- lstm_model %>% predict(X_test_lstm)"
      ]
    },
    {
      "cell_type": "code",
      "execution_count": 78,
      "metadata": {
        "id": "GSCp4KBvM0nT"
      },
      "outputs": [],
      "source": [
        "# Convert data to DMatrix for XGBoost\n",
        "dtrain <- xgb.DMatrix(data = X_train, label = y_train)\n",
        "dtest <- xgb.DMatrix(data = X_test, label = y_test)  # Add labels for evaluation"
      ]
    },
    {
      "cell_type": "code",
      "execution_count": 79,
      "metadata": {
        "id": "mR2eJ06YM24y"
      },
      "outputs": [],
      "source": [
        "# Set parameters for XGBoost\n",
        "xgb_params <- list(\n",
        "  objective = \"reg:squarederror\",\n",
        "  eta = 0.1,\n",
        "  max_depth = 3\n",
        ")"
      ]
    },
    {
      "cell_type": "code",
      "execution_count": 80,
      "metadata": {
        "id": "aHohcot2M5ZH"
      },
      "outputs": [],
      "source": [
        "# Train XGBoost model\n",
        "xgb_model <- xgb.train(params = xgb_params, data = dtrain, nrounds = 50)"
      ]
    },
    {
      "cell_type": "code",
      "execution_count": 81,
      "metadata": {
        "id": "40Y-7KTCM6jN"
      },
      "outputs": [],
      "source": [
        "# Get predictions from XGBoost\n",
        "xgb_train_pred <- predict(xgb_model, X_train)\n",
        "xgb_test_pred <- predict(xgb_model, X_test)"
      ]
    },
    {
      "cell_type": "code",
      "execution_count": 82,
      "metadata": {
        "id": "HFpf7jJqM8qd"
      },
      "outputs": [],
      "source": [
        "# Train Random Forest model\n",
        "rf_model <- randomForest(X_train, y_train, ntree = 100)"
      ]
    },
    {
      "cell_type": "code",
      "execution_count": 83,
      "metadata": {
        "id": "w7J72wEmM_dl"
      },
      "outputs": [],
      "source": [
        "# Get predictions from Random Forest\n",
        "rf_train_pred <- predict(rf_model, X_train)\n",
        "rf_test_pred <- predict(rf_model, X_test)"
      ]
    },
    {
      "cell_type": "code",
      "execution_count": 84,
      "metadata": {
        "id": "-ff9rQ-cM_-q"
      },
      "outputs": [],
      "source": [
        "# Create new train and test datasets from predictions of base models\n",
        "stack_train <- data.frame(\n",
        "  lstm = lstm_train_pred,\n",
        "  xgb = xgb_train_pred,\n",
        "  rf = rf_train_pred\n",
        ")\n",
        "\n",
        "stack_test <- data.frame(\n",
        "  lstm = lstm_test_pred,\n",
        "  xgb = xgb_test_pred,\n",
        "  rf = rf_test_pred\n",
        ")"
      ]
    },
    {
      "cell_type": "code",
      "execution_count": 85,
      "metadata": {
        "id": "FvIhSZd0NEHj"
      },
      "outputs": [],
      "source": [
        "# Train a simple linear regression model as the meta-learner\n",
        "meta_model <- lm(y_train ~ ., data = stack_train)"
      ]
    },
    {
      "cell_type": "code",
      "execution_count": 86,
      "metadata": {
        "id": "S86-Il3sNErR"
      },
      "outputs": [],
      "source": [
        "# Get final predictions using the meta-learner\n",
        "final_train_pred <- predict(meta_model, stack_train)\n",
        "final_test_pred <- predict(meta_model, stack_test)"
      ]
    },
    {
      "cell_type": "code",
      "execution_count": 87,
      "metadata": {
        "id": "fgOOEU6CNHuh"
      },
      "outputs": [],
      "source": [
        "# Define RMSE function\n",
        "rmse <- function(actual, predicted) {\n",
        "  sqrt(mean((actual - predicted)^2))\n",
        "}"
      ]
    },
    {
      "cell_type": "code",
      "source": [
        "# Define R-squared function\n",
        "r_squared <- function(actual, predictions) {\n",
        "  ss_res <- sum((actual - predictions)^2)  # Residual sum of squares\n",
        "  ss_tot <- sum((actual - mean(actual))^2)  # Total sum of squares\n",
        "  1 - (ss_res / ss_tot)\n",
        "}"
      ],
      "metadata": {
        "id": "erYjt8Ge5zF3"
      },
      "execution_count": null,
      "outputs": []
    },
    {
      "cell_type": "code",
      "execution_count": 88,
      "metadata": {
        "id": "cB63otJqNIMG",
        "colab": {
          "base_uri": "https://localhost:8080/"
        },
        "outputId": "138d7bf8-cd31-4100-8133-85cb6b2cb767"
      },
      "outputs": [
        {
          "output_type": "stream",
          "name": "stdout",
          "text": [
            "Train MSE:  0.002788036 \n",
            "Test MSE:  0.02177669 \n"
          ]
        }
      ],
      "source": [
        "# Calculate RMSE for training and testing sets\n",
        "train_rmse <- rmse(y_train, final_train_pred)\n",
        "test_rmse <- rmse(y_test, final_test_pred)\n",
        "\n",
        "cat(\"Train RMSE: \", train_rmse, \"\\n\")\n",
        "cat(\"Test RMSE: \", test_rmse, \"\\n\")"
      ]
    },
    {
      "cell_type": "code",
      "source": [
        "# Calculate R-squared using actual sales and predicted values\n",
        "train_r_squared_value <- r_squared(y_train, final_train_pred)\n",
        "test_r_squared_value <- r_squared(y_test, final_test_pred)\n",
        "# Print the R-squared values\n",
        "cat(\"Train R-squared: \", train_r_squared_value, \"\\n\")\n",
        "cat(\"Test R-squared: \", test_r_squared_value, \"\\n\")"
      ],
      "metadata": {
        "id": "GjpiQZ5r5Z3-"
      },
      "execution_count": null,
      "outputs": []
    },
    {
      "cell_type": "code",
      "source": [
        "train_error_rate_test <- train_rmse/mean(y_train)\n",
        "train_error_rate_test\n",
        "test_error_rate_test <- test_rmse/mean(y_test)\n",
        "test_error_rate_test"
      ],
      "metadata": {
        "id": "oz9JPECM6ha-"
      },
      "execution_count": null,
      "outputs": []
    },
    {
      "cell_type": "code",
      "execution_count": 89,
      "metadata": {
        "id": "4QZnnaUqmi_y"
      },
      "outputs": [],
      "source": [
        "# Visualize the RMSE for training and testing sets\n",
        "rmse_data <- data.frame(\n",
        "  dataset = c(\"Training\", \"Testing\"),\n",
        "  rmse_value = c(train_rmse, test_rmse)\n",
        ")"
      ]
    },
    {
      "cell_type": "code",
      "execution_count": 90,
      "metadata": {
        "id": "G4UfziECmkcI",
        "colab": {
          "base_uri": "https://localhost:8080/",
          "height": 437
        },
        "outputId": "a73c3518-5df9-4fa8-ee6f-421c7f3730f0"
      },
      "outputs": [
        {
          "output_type": "display_data",
          "data": {
            "text/plain": [
              "plot without title"
            ],
            "image/png": "[encoded data removed]"
          },
          "metadata": {
            "image/png": {
              "width": 420,
              "height": 420
            }
          }
        }
      ],
      "source": [
        "ggplot(rmse_data, aes(x = dataset, y = rmse_value)) +\n",
        "  geom_bar(stat = \"identity\", fill = \"steelblue\") +\n",
        "  geom_text(aes(label = round(rmse_value, 4)), vjust = -0.5) +\n",
        "  labs(title = \"RMSE Comparison\", x = \"Dataset\", y = \"Root Mean Squared Error (RMSE)\") +\n",
        "  theme_minimal()"
      ]
    },
    {
      "cell_type": "code",
      "execution_count": 91,
      "metadata": {
        "id": "UgrpM7KKmlFX",
        "colab": {
          "base_uri": "https://localhost:8080/",
          "height": 437
        },
        "outputId": "33c883f9-bb4c-470f-db4b-a49197c19924"
      },
      "outputs": [
        {
          "output_type": "display_data",
          "data": {
            "text/plain": [
              "plot without title"
            ],
            "image/png": "[encoded data removed]"
          },
          "metadata": {
            "image/png": {
              "width": 420,
              "height": 420
            }
          }
        }
      ],
      "source": [
        "# Visualizing predicted vs actual values for training set\n",
        "ggplot(data.frame(actual = y_train, predicted = final_train_pred), aes(x = actual, y = predicted)) +\n",
        "  geom_point(color = \"blue\") +\n",
        "  geom_abline(slope = 1, intercept = 0, linetype = \"dashed\", color = \"red\") +\n",
        "  labs(title = \"Predicted vs Actual (Training Set)\", x = \"Actual\", y = \"Predicted\") +\n",
        "  theme_minimal()"
      ]
    },
    {
      "cell_type": "code",
      "execution_count": 92,
      "metadata": {
        "id": "Y3H15plBmmaL",
        "colab": {
          "base_uri": "https://localhost:8080/",
          "height": 437
        },
        "outputId": "3fa4cc76-63ac-425e-f05b-63207c03f3ae"
      },
      "outputs": [
        {
          "output_type": "display_data",
          "data": {
            "text/plain": [
              "plot without title"
            ],
            "image/png": "[encoded data removed]"
          },
          "metadata": {
            "image/png": {
              "width": 420,
              "height": 420
            }
          }
        }
      ],
      "source": [
        "# Visualizing predicted vs actual values for testing set\n",
        "ggplot(data.frame(actual = y_test, predicted = final_test_pred), aes(x = actual, y = predicted)) +\n",
        "  geom_point(color = \"green\") +\n",
        "  geom_abline(slope = 1, intercept = 0, linetype = \"dashed\", color = \"red\") +\n",
        "  labs(title = \"Predicted vs Actual (Testing Set)\", x = \"Actual\", y = \"Predicted\") +\n",
        "  theme_minimal()"
      ]
    },
    {
      "cell_type": "code",
      "source": [],
      "metadata": {
        "id": "wVZJzGzCvB3F"
      },
      "execution_count": null,
      "outputs": []
    }
  ],
  "metadata": {
    "colab": {
      "provenance": []
    },
    "kernelspec": {
      "display_name": "R",
      "name": "ir"
    },
    "language_info": {
      "name": "R"
    }
  },
  "nbformat": 4,
  "nbformat_minor": 0
}